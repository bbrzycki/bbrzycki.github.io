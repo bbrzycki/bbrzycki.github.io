{
 "cells": [
  {
   "cell_type": "markdown",
   "metadata": {},
   "source": [
    "# Leaflet cluster map of talk locations\n",
    "\n",
    "Run this from the _talks/ directory, which contains .md files of all your talks. This scrapes the location YAML field from each .md file, geolocates it with geopy/Nominatim, and uses the getorg library to output data, HTML, and Javascript for a standalone cluster map."
   ]
  },
  {
   "cell_type": "code",
   "execution_count": 2,
   "metadata": {
    "collapsed": false
   },
   "outputs": [
    {
     "name": "stdout",
     "output_type": "stream",
     "text": [
      "Requirement already satisfied: getorg in /Users/bryanbrzycki/anaconda3/lib/python3.7/site-packages (0.3.1)\n",
      "Requirement already satisfied: geopy in /Users/bryanbrzycki/anaconda3/lib/python3.7/site-packages (from getorg) (2.4.1)\n",
      "Requirement already satisfied: pygithub in /Users/bryanbrzycki/anaconda3/lib/python3.7/site-packages (from getorg) (2.3.0)\n",
      "Requirement already satisfied: retrying in /Users/bryanbrzycki/anaconda3/lib/python3.7/site-packages (from getorg) (1.3.4)\n",
      "Requirement already satisfied: geographiclib<3,>=1.52 in /Users/bryanbrzycki/anaconda3/lib/python3.7/site-packages (from geopy->getorg) (2.0)\n",
      "Requirement already satisfied: pynacl>=1.4.0 in /Users/bryanbrzycki/anaconda3/lib/python3.7/site-packages (from pygithub->getorg) (1.5.0)\n",
      "Requirement already satisfied: requests>=2.14.0 in /Users/bryanbrzycki/anaconda3/lib/python3.7/site-packages (from pygithub->getorg) (2.26.0)\n",
      "Requirement already satisfied: pyjwt>=2.4.0 in /Users/bryanbrzycki/anaconda3/lib/python3.7/site-packages (from pyjwt[crypto]>=2.4.0->pygithub->getorg) (2.8.0)\n",
      "Requirement already satisfied: typing-extensions>=4.0.0 in /Users/bryanbrzycki/anaconda3/lib/python3.7/site-packages (from pygithub->getorg) (4.7.1)\n",
      "Requirement already satisfied: urllib3>=1.26.0 in /Users/bryanbrzycki/anaconda3/lib/python3.7/site-packages (from pygithub->getorg) (1.26.7)\n",
      "Requirement already satisfied: Deprecated in /Users/bryanbrzycki/anaconda3/lib/python3.7/site-packages (from pygithub->getorg) (1.2.14)\n",
      "Requirement already satisfied: six>=1.7.0 in /Users/bryanbrzycki/anaconda3/lib/python3.7/site-packages (from retrying->getorg) (1.16.0)\n",
      "Requirement already satisfied: cryptography>=3.4.0 in /Users/bryanbrzycki/anaconda3/lib/python3.7/site-packages (from pyjwt[crypto]>=2.4.0->pygithub->getorg) (3.4.8)\n",
      "Requirement already satisfied: cffi>=1.4.1 in /Users/bryanbrzycki/anaconda3/lib/python3.7/site-packages (from pynacl>=1.4.0->pygithub->getorg) (1.14.6)\n",
      "Requirement already satisfied: certifi>=2017.4.17 in /Users/bryanbrzycki/anaconda3/lib/python3.7/site-packages (from requests>=2.14.0->pygithub->getorg) (2021.10.8)\n",
      "Requirement already satisfied: charset-normalizer~=2.0.0 in /Users/bryanbrzycki/anaconda3/lib/python3.7/site-packages (from requests>=2.14.0->pygithub->getorg) (2.0.4)\n",
      "Requirement already satisfied: idna<4,>=2.5 in /Users/bryanbrzycki/anaconda3/lib/python3.7/site-packages (from requests>=2.14.0->pygithub->getorg) (3.2)\n",
      "Requirement already satisfied: wrapt<2,>=1.10 in /Users/bryanbrzycki/anaconda3/lib/python3.7/site-packages (from Deprecated->pygithub->getorg) (1.12.1)\n",
      "Requirement already satisfied: pycparser in /Users/bryanbrzycki/anaconda3/lib/python3.7/site-packages (from cffi>=1.4.1->pynacl>=1.4.0->pygithub->getorg) (2.20)\n",
      "Iywidgets and ipyleaflet support disabled. You must be in a Jupyter notebook to use this feature.\n",
      "Error raised:\n",
      "No module named 'ipyleaflet'\n",
      "Check that you have enabled ipyleaflet in Jupyter with:\n",
      "    jupyter nbextension enable --py ipyleaflet\n"
     ]
    }
   ],
   "source": [
    "!pip install getorg --upgrade\n",
    "import glob\n",
    "import getorg\n",
    "from geopy import Nominatim"
   ]
  },
  {
   "cell_type": "code",
   "execution_count": 3,
   "metadata": {
    "collapsed": false
   },
   "outputs": [],
   "source": [
    "g = glob.glob(\"*.md\")"
   ]
  },
  {
   "cell_type": "code",
   "execution_count": 40,
   "metadata": {
    "collapsed": true
   },
   "outputs": [],
   "source": [
    "geocoder = Nominatim(user_agent=\"bryanbrzycki.github.io\")\n",
    "location_dict = {}\n",
    "location = \"\"\n",
    "permalink = \"\"\n",
    "title = \"\""
   ]
  },
  {
   "cell_type": "code",
   "execution_count": 7,
   "metadata": {
    "collapsed": false
   },
   "outputs": [
    {
     "name": "stdout",
     "output_type": "stream",
     "text": [
      "Berkeley, CA \n",
      " Berkeley, Alameda County, California, United States\n",
      "Seattle, WA \n",
      " Seattle, King County, Washington, United States\n",
      "Washington, D.C. \n",
      " Washington, District of Columbia, United States\n",
      "San Diego, CA \n",
      " San Diego, San Diego County, California, United States\n",
      "State College, PA \n",
      " State College, Centre County, Pennsylvania, United States\n",
      "Santa Cruz, CA \n",
      " Santa Cruz County, California, United States\n",
      "Santa Cruz, CA \n",
      " Santa Cruz County, California, United States\n",
      "Berkeley, CA \n",
      " Berkeley, Alameda County, California, United States\n"
     ]
    }
   ],
   "source": [
    "\n",
    "for file in g:\n",
    "    with open(file, 'r') as f:\n",
    "        lines = f.read()\n",
    "        if lines.find('address: \"') > 1:\n",
    "            loc_start = lines.find('address: \"') + 11\n",
    "            lines_trim = lines[loc_start:]\n",
    "            loc_end = lines_trim.find('\"')\n",
    "            location = lines_trim[:loc_end]\n",
    "                            \n",
    "            location_dict[location] = geocoder.geocode(location)\n",
    "            print(location, \"\\n\", location_dict[location])\n"
   ]
  },
  {
   "cell_type": "code",
   "execution_count": 41,
   "metadata": {},
   "outputs": [
    {
     "name": "stdout",
     "output_type": "stream",
     "text": [
      "Campbell Hall, Berkeley, CA 94720 \n",
      " Campbell Hall, Oppenheimer Way, Northside, Berkeley, Alameda County, California, 94720, United States\n",
      "705 Pike Street Seattle, WA 98101 \n",
      " Seattle Convention Center Arch at 705 Pike, 705, Pike Street, Central Business District, First Hill, Seattle, King County, Washington, 98101, United States\n",
      "201 Waterfront St, Oxon Hill, MD 20745 \n",
      " Gaylord National Resort and Convention Center, 201, Waterfront Street, National Harbor, Prince George's County, Maryland, 20745, United States\n",
      "3550 Rue University, Montréal, QC H3A 2A7, Canada \n",
      " 3550, Rue University, Quartier des Spectacles, Ville-Marie, Montréal, Agglomération de Montréal, Montréal (région administrative), Québec, H3A 0E8, Canada\n",
      "9500 Gilman Dr, La Jolla, CA 92093 \n",
      " University of California, San Diego, 9500, Gilman Drive, San Diego, San Diego County, California, 92093, United States\n",
      "Old Coaly Way, State College, Centre County, Pennsylvania, 16802 \n",
      " Old Coaly Way, State College, Centre County, Pennsylvania, 16802, United States\n",
      "611 Ocean St, Santa Cruz, CA 95060 \n",
      " Solaire, 611, Ocean Street, Soquel Avenue Commercial Corridor, Downtown, Santa Cruz, Santa Cruz County, California, 95060, United States\n",
      "611 Ocean St, Santa Cruz, CA 95060 \n",
      " Solaire, 611, Ocean Street, Soquel Avenue Commercial Corridor, Downtown, Santa Cruz, Santa Cruz County, California, 95060, United States\n",
      "Campbell Hall, Berkeley, CA 94720 \n",
      " Campbell Hall, Oppenheimer Way, Northside, Berkeley, Alameda County, California, 94720, United States\n",
      "41 Tunnel Rd, Berkeley, CA 94705 \n",
      " 41, Tunnel Road, Claremont, Berkeley, Alameda County, California, 94705, United States\n"
     ]
    }
   ],
   "source": [
    "\n",
    "for file in g:\n",
    "    with open(file, 'r') as f:\n",
    "        lines = f.read()\n",
    "        if lines.find('address: \"') > 1:\n",
    "            loc_start = lines.find('address: \"') + 10\n",
    "            lines_trim = lines[loc_start:]\n",
    "            loc_end = lines_trim.find('\"')\n",
    "            location = lines_trim[:loc_end]\n",
    "                            \n",
    "            location_dict[location] = geocoder.geocode(location)\n",
    "            print(location, \"\\n\", location_dict[location])"
   ]
  },
  {
   "cell_type": "code",
   "execution_count": 43,
   "metadata": {
    "collapsed": false
   },
   "outputs": [
    {
     "data": {
      "text/plain": [
       "'Written map to ../talkmap/'"
      ]
     },
     "execution_count": 43,
     "metadata": {},
     "output_type": "execute_result"
    }
   ],
   "source": [
    "m = getorg.orgmap.create_map_obj()\n",
    "getorg.orgmap.output_html_cluster_map(location_dict, folder_name=\"../talkmap\", hashed_usernames=False)"
   ]
  },
  {
   "cell_type": "markdown",
   "metadata": {},
   "source": []
  },
  {
   "cell_type": "code",
   "execution_count": 5,
   "metadata": {
    "collapsed": true
   },
   "outputs": [
    {
     "data": {
      "text/plain": [
       "Location(Washington, District of Columbia, United States, (38.8950368, -77.0365427, 0.0))"
      ]
     },
     "execution_count": 5,
     "metadata": {},
     "output_type": "execute_result"
    }
   ],
   "source": [
    "geocoder.geocode('Washington, D.C.')"
   ]
  },
  {
   "cell_type": "code",
   "execution_count": 6,
   "metadata": {},
   "outputs": [
    {
     "data": {
      "text/plain": [
       "Location(Gaylord National Resort and Convention Center, 201, Waterfront Street, National Harbor, Prince George's County, Maryland, 20745, United States, (38.7809181, -77.01775816199998, 0.0))"
      ]
     },
     "execution_count": 6,
     "metadata": {},
     "output_type": "execute_result"
    }
   ],
   "source": [
    "geocoder.geocode('201 Waterfront St, Oxon Hill, MD 20745')"
   ]
  },
  {
   "cell_type": "code",
   "execution_count": 22,
   "metadata": {},
   "outputs": [
    {
     "ename": "TypeError",
     "evalue": "Nominatim.geocode() takes 2 positional arguments but 3 were given",
     "output_type": "error",
     "traceback": [
      "\u001b[0;31m---------------------------------------------------------------------------\u001b[0m",
      "\u001b[0;31mTypeError\u001b[0m                                 Traceback (most recent call last)",
      "Cell \u001b[0;32mIn[22], line 1\u001b[0m\n\u001b[0;32m----> 1\u001b[0m \u001b[43mgeocoder\u001b[49m\u001b[38;5;241;43m.\u001b[39;49m\u001b[43mgeocode\u001b[49m\u001b[43m(\u001b[49m\u001b[38;5;241;43m40.79901602837002\u001b[39;49m\u001b[43m,\u001b[49m\u001b[43m \u001b[49m\u001b[38;5;241;43m-\u001b[39;49m\u001b[38;5;241;43m77.8629089\u001b[39;49m\u001b[43m)\u001b[49m\n",
      "\u001b[0;31mTypeError\u001b[0m: Nominatim.geocode() takes 2 positional arguments but 3 were given"
     ]
    }
   ],
   "source": [
    "geocoder.geocode(40.79901602837002, -77.8629089)"
   ]
  },
  {
   "cell_type": "code",
   "execution_count": 26,
   "metadata": {},
   "outputs": [
    {
     "data": {
      "text/plain": [
       "Location(Old Coaly Way, State College, Centre County, Pennsylvania, 16802, United States, (40.798569, -77.8629824, 0.0))"
      ]
     },
     "execution_count": 26,
     "metadata": {},
     "output_type": "execute_result"
    }
   ],
   "source": [
    "geocoder.reverse((40.79901602837002, -77.8629089))"
   ]
  },
  {
   "cell_type": "code",
   "execution_count": 24,
   "metadata": {},
   "outputs": [
    {
     "data": {
      "text/plain": [
       "'(40.79901602837002, -77.8629089)'"
      ]
     },
     "execution_count": 24,
     "metadata": {},
     "output_type": "execute_result"
    }
   ],
   "source": [
    "\"(40.79901602837002, -77.8629089)\""
   ]
  },
  {
   "cell_type": "code",
   "execution_count": 32,
   "metadata": {},
   "outputs": [
    {
     "data": {
      "text/plain": [
       "[40.79901602837002, -77.8629089]"
      ]
     },
     "execution_count": 32,
     "metadata": {},
     "output_type": "execute_result"
    }
   ],
   "source": [
    "[float(a) for a in \"(40.79901602837002, -77.8629089)\".replace('(', '').replace(')','').split(',')]"
   ]
  },
  {
   "cell_type": "code",
   "execution_count": 33,
   "metadata": {},
   "outputs": [],
   "source": [
    "a = geocoder.geocode(\"(40.79901602837002, -77.8629089)\")\n",
    "a"
   ]
  },
  {
   "cell_type": "code",
   "execution_count": 38,
   "metadata": {},
   "outputs": [
    {
     "data": {
      "text/plain": [
       "Location(University of California, San Diego, 9500, Gilman Drive, San Diego, San Diego County, California, 92093, United States, (32.87924375, -117.23112468377349, 0.0))"
      ]
     },
     "execution_count": 38,
     "metadata": {},
     "output_type": "execute_result"
    }
   ],
   "source": [
    "geocoder.geocode(\"9500 Gilman Dr, La Jolla, CA 92093\")"
   ]
  },
  {
   "cell_type": "code",
   "execution_count": null,
   "metadata": {},
   "outputs": [],
   "source": []
  }
 ],
 "metadata": {
  "anaconda-cloud": {},
  "kernelspec": {
   "display_name": "bl",
   "language": "python",
   "name": "python3"
  },
  "language_info": {
   "codemirror_mode": {
    "name": "ipython",
    "version": 3
   },
   "file_extension": ".py",
   "mimetype": "text/x-python",
   "name": "python",
   "nbconvert_exporter": "python",
   "pygments_lexer": "ipython3",
   "version": "3.10.4"
  }
 },
 "nbformat": 4,
 "nbformat_minor": 0
}
